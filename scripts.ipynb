{
 "cells": [
  {
   "cell_type": "code",
   "execution_count": null,
   "metadata": {},
   "outputs": [],
   "source": [
    "from post_processing import *\n",
    "\n",
    "\n",
    "path = r\"2016.NBA.Raw.Video.Replays\\01.14.2016.LAL.at.GSW\\01.14.2016.LAL.at.GSW.json\"\n",
    "postprocess_results(path)"
   ]
  },
  {
   "cell_type": "code",
   "execution_count": null,
   "metadata": {},
   "outputs": [],
   "source": [
    "import json\n",
    "\n",
    "path = r\"2016.NBA.Raw.Video.Replays\\01.14.2016.LAL.at.GSW\\01.14.2016.LAL.at.GSW.json\"\n",
    "\n",
    "with open(path) as file:\n",
    "    data = json.load(file)\n",
    "\n",
    "result = {}\n",
    "\n",
    "for key, value in data.items():\n",
    "    new_key = str(value[0]) + \" \" + str(value[1]) # Convert tuple values to string\n",
    "    result[new_key] = key\n",
    "\n",
    "# Print the final result\n",
    "for key, value in result.items():\n",
    "    print(key, \":\", value)\n",
    "\n",
    "with open(\"searchable.json\", 'w') as f:\n",
    "    json.dump(result, f)\n"
   ]
  },
  {
   "cell_type": "code",
   "execution_count": null,
   "metadata": {},
   "outputs": [],
   "source": [
    "import os\n",
    "\n",
    "\n",
    "def extract_file_names(file_path, output_file):\n",
    "    # Get all files in the file path\n",
    "    files = os.listdir(file_path)\n",
    "\n",
    "    with open(output_file, 'w') as output:\n",
    "        for file in files:\n",
    "            # Extract the file name\n",
    "            file_name = os.path.splitext(file)[0]\n",
    "\n",
    "            # Write the file name to the output file\n",
    "            output.write(file_name + '\\n')\n",
    "\n",
    "    print(\"File names extracted and saved to\", output_file)\n",
    "\n",
    "\n",
    "# Example usage\n",
    "file_path = '2016.NBA.Raw.SportVU.Gamelogs'\n",
    "output_file = 'names.txt'\n",
    "\n",
    "extract_file_names(file_path, output_file)\n"
   ]
  }
 ],
 "metadata": {
  "kernelspec": {
   "display_name": "Python 3",
   "language": "python",
   "name": "python3"
  },
  "language_info": {
   "codemirror_mode": {
    "name": "ipython",
    "version": 3
   },
   "file_extension": ".py",
   "mimetype": "text/x-python",
   "name": "python",
   "nbconvert_exporter": "python",
   "pygments_lexer": "ipython3",
   "version": "3.10.11"
  },
  "orig_nbformat": 4
 },
 "nbformat": 4,
 "nbformat_minor": 2
}
