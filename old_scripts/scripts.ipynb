{
 "cells": [
  {
   "cell_type": "code",
   "execution_count": 2,
   "metadata": {},
   "outputs": [],
   "source": [
    "def add_timestamps_to_statvu():\n",
    "    pass\n",
    "\n",
    "import json #import json library\n",
    "json_data = open('demo/full-game-example/0021500592.json')\n",
    "data = json.load(json_data) #load the data"
   ]
  },
  {
   "cell_type": "code",
   "execution_count": 7,
   "metadata": {},
   "outputs": [
    {
     "name": "stdout",
     "output_type": "stream",
     "text": [
      "Modified JSON data has been saved to: demo/full-game-example/result_modified.json\n"
     ]
    }
   ],
   "source": [
    "import json\n",
    "\n",
    "\n",
    "def modify_time_remaining(json_path):\n",
    "    with open(json_path, 'r') as file:\n",
    "        data = json.load(file)\n",
    "\n",
    "    modified_data = {}\n",
    "    modified_times = {}\n",
    "\n",
    "    for frame, time in data.items():\n",
    "        quarter, remaining = time\n",
    "        key = (quarter, remaining)\n",
    "\n",
    "        if key in modified_times:\n",
    "            if remaining != 0.0:\n",
    "                modified_times[key] -= 0.04\n",
    "                modified_data[frame] = [quarter, round(modified_times[key], 2)]\n",
    "            else:\n",
    "                modified_data[frame] = time\n",
    "        else:\n",
    "            modified_times[key] = remaining\n",
    "            modified_data[frame] = time\n",
    "\n",
    "    modified_json_path = json_path.rstrip('.json') + '_modified.json'\n",
    "\n",
    "    with open(modified_json_path, 'w') as file:\n",
    "        json.dump(modified_data, file, indent=4)\n",
    "\n",
    "    print(f\"Modified JSON data has been saved to: {modified_json_path}\")\n",
    "\n",
    "\n",
    "# Usage example\n",
    "json_file_path = 'demo/full-game-example/results.json'\n",
    "modify_time_remaining(json_file_path)\n"
   ]
  },
  {
   "cell_type": "code",
   "execution_count": 94,
   "metadata": {},
   "outputs": [
    {
     "data": {
      "text/plain": [
       "[1,\n",
       " 1452829899446,\n",
       " 719.98,\n",
       " 24.0,\n",
       " None,\n",
       " [[-1, -1, 55.6447, 25.43192, 11.0557],\n",
       "  [1610612744, 101106, 47.34288, 26.92569, 0.0],\n",
       "  [1610612744, 201575, 49.7694, 33.42409, 0.0],\n",
       "  [1610612744, 201939, 70.20163, 26.3788, 0.0],\n",
       "  [1610612744, 202691, 50.25296, 18.07157, 0.0],\n",
       "  [1610612744, 203110, 56.76244, 24.84013, 0.0],\n",
       "  [1610612747, 977, 44.56333, 17.00759, 0.0],\n",
       "  [1610612747, 201579, 46.03164, 25.42134, 0.0],\n",
       "  [1610612747, 101150, 23.34367, 24.37282, 0.0],\n",
       "  [1610612747, 203903, 35.46496, 25.18938, 0.0],\n",
       "  [1610612747, 1626204, 42.09194, 32.45517, 0.0]]]"
      ]
     },
     "execution_count": 94,
     "metadata": {},
     "output_type": "execute_result"
    }
   ],
   "source": [
    "data.keys()\n",
    "len(data['events'])\n",
    "data['events'][3]['moments'][124]"
   ]
  },
  {
   "cell_type": "code",
   "execution_count": null,
   "metadata": {},
   "outputs": [],
   "source": [
    "## TODO\n",
    "# 1. Normalize all videos\n",
    "# 2. Temporal grounding + verification for all videos\n",
    "# 3. Append new data to statvu position data\n",
    "# 4. Visualize and verify\n",
    "\n",
    "import os\n",
    "from moviepy.editor import VideoFileClip\n",
    "\n",
    "\n",
    "def process_video(file_path, target_resolution=(1280, 720), target_fps=25):\n",
    "    # Load the video clip\n",
    "    video = VideoFileClip(file_path)\n",
    "\n",
    "    # Set target resolution and frame rate\n",
    "    video = video.resize(target_resolution)\n",
    "    video = video.set_fps(target_fps)\n",
    "\n",
    "    # Get the file name without the extension\n",
    "    file_name = os.path.splitext(file_path)[0]\n",
    "\n",
    "    # Set the output file path\n",
    "    output_path = f\"{file_name}_processed.mp4\"\n",
    "\n",
    "    # Save the processed video\n",
    "    video.write_videofile(output_path)\n",
    "\n",
    "    # Remove the original file\n",
    "    os.remove(file_path)\n",
    "\n",
    "    print(f\"Processed video saved: {output_path}\")\n",
    "\n",
    "\n",
    "def process_directory(directory):\n",
    "    # Iterate over all files and directories in the given path\n",
    "    for root, dirs, files in os.walk(directory):\n",
    "        for file in files:\n",
    "            file_path = os.path.join(root, file)\n",
    "\n",
    "            # Check if the file is an MP4 video\n",
    "            if file.lower().endswith(\".mp4\"):\n",
    "                process_video(file_path)\n"
   ]
  },
  {
   "cell_type": "code",
   "execution_count": 3,
   "metadata": {},
   "outputs": [
    {
     "name": "stdout",
     "output_type": "stream",
     "text": [
      "Moviepy - Building video 2016.NBA.Raw.Video.Replays\\01.14.2016.LAL.at.GSW\\01.14.2016.LAL.at.GSW_processed.mp4.\n",
      "MoviePy - Writing audio in 01.14.2016.LAL.at.GSW_processedTEMP_MPY_wvf_snd.mp3\n"
     ]
    },
    {
     "name": "stderr",
     "output_type": "stream",
     "text": [
      "                                                                          \r"
     ]
    },
    {
     "name": "stdout",
     "output_type": "stream",
     "text": [
      "MoviePy - Done.\n",
      "Moviepy - Writing video 2016.NBA.Raw.Video.Replays\\01.14.2016.LAL.at.GSW\\01.14.2016.LAL.at.GSW_processed.mp4\n",
      "\n"
     ]
    },
    {
     "name": "stderr",
     "output_type": "stream",
     "text": [
      "                                                                     \r"
     ]
    },
    {
     "name": "stdout",
     "output_type": "stream",
     "text": [
      "Moviepy - Done !\n",
      "Moviepy - video ready 2016.NBA.Raw.Video.Replays\\01.14.2016.LAL.at.GSW\\01.14.2016.LAL.at.GSW_processed.mp4\n",
      "Processed video saved: 2016.NBA.Raw.Video.Replays\\01.14.2016.LAL.at.GSW\\01.14.2016.LAL.at.GSW_processed.mp4\n",
      "Moviepy - Building video 2016.NBA.Raw.Video.Replays\\01.22.2016.IND.at.GSW\\01.22.2016.IND.at.GSW_processed.mp4.\n",
      "MoviePy - Writing audio in 01.22.2016.IND.at.GSW_processedTEMP_MPY_wvf_snd.mp3\n"
     ]
    },
    {
     "name": "stderr",
     "output_type": "stream",
     "text": [
      "                                                                          \r"
     ]
    },
    {
     "name": "stdout",
     "output_type": "stream",
     "text": [
      "MoviePy - Done.\n",
      "Moviepy - Writing video 2016.NBA.Raw.Video.Replays\\01.22.2016.IND.at.GSW\\01.22.2016.IND.at.GSW_processed.mp4\n",
      "\n"
     ]
    },
    {
     "name": "stderr",
     "output_type": "stream",
     "text": [
      "                                                                     \r"
     ]
    },
    {
     "name": "stdout",
     "output_type": "stream",
     "text": [
      "Moviepy - Done !\n",
      "Moviepy - video ready 2016.NBA.Raw.Video.Replays\\01.22.2016.IND.at.GSW\\01.22.2016.IND.at.GSW_processed.mp4\n",
      "Processed video saved: 2016.NBA.Raw.Video.Replays\\01.22.2016.IND.at.GSW\\01.22.2016.IND.at.GSW_processed.mp4\n",
      "Moviepy - Building video 2016.NBA.Raw.Video.Replays\\10.28.2015.CLE.at.MEM\\10.28.2015.CLE.at.MEM_processed.mp4.\n",
      "MoviePy - Writing audio in 10.28.2015.CLE.at.MEM_processedTEMP_MPY_wvf_snd.mp3\n"
     ]
    },
    {
     "name": "stderr",
     "output_type": "stream",
     "text": [
      "                                                                          \r"
     ]
    },
    {
     "name": "stdout",
     "output_type": "stream",
     "text": [
      "MoviePy - Done.\n",
      "Moviepy - Writing video 2016.NBA.Raw.Video.Replays\\10.28.2015.CLE.at.MEM\\10.28.2015.CLE.at.MEM_processed.mp4\n",
      "\n"
     ]
    },
    {
     "name": "stderr",
     "output_type": "stream",
     "text": [
      "                                                                     \r"
     ]
    },
    {
     "name": "stdout",
     "output_type": "stream",
     "text": [
      "Moviepy - Done !\n",
      "Moviepy - video ready 2016.NBA.Raw.Video.Replays\\10.28.2015.CLE.at.MEM\\10.28.2015.CLE.at.MEM_processed.mp4\n",
      "Processed video saved: 2016.NBA.Raw.Video.Replays\\10.28.2015.CLE.at.MEM\\10.28.2015.CLE.at.MEM_processed.mp4\n",
      "Moviepy - Building video 2016.NBA.Raw.Video.Replays\\10.31.2015.GSW.at.NOP\\10.31.2015.GSW.at.NOP_processed.mp4.\n",
      "MoviePy - Writing audio in 10.31.2015.GSW.at.NOP_processedTEMP_MPY_wvf_snd.mp3\n"
     ]
    },
    {
     "name": "stderr",
     "output_type": "stream",
     "text": [
      "                                                                          \r"
     ]
    },
    {
     "name": "stdout",
     "output_type": "stream",
     "text": [
      "MoviePy - Done.\n",
      "Moviepy - Writing video 2016.NBA.Raw.Video.Replays\\10.31.2015.GSW.at.NOP\\10.31.2015.GSW.at.NOP_processed.mp4\n",
      "\n"
     ]
    },
    {
     "name": "stderr",
     "output_type": "stream",
     "text": [
      "                                                                     \r"
     ]
    },
    {
     "name": "stdout",
     "output_type": "stream",
     "text": [
      "Moviepy - Done !\n",
      "Moviepy - video ready 2016.NBA.Raw.Video.Replays\\10.31.2015.GSW.at.NOP\\10.31.2015.GSW.at.NOP_processed.mp4\n",
      "Processed video saved: 2016.NBA.Raw.Video.Replays\\10.31.2015.GSW.at.NOP\\10.31.2015.GSW.at.NOP_processed.mp4\n",
      "Moviepy - Building video 2016.NBA.Raw.Video.Replays\\11.11.2015.GSW.at.MEM\\11.11.2015.GSW.at.MEM_processed.mp4.\n",
      "MoviePy - Writing audio in 11.11.2015.GSW.at.MEM_processedTEMP_MPY_wvf_snd.mp3\n"
     ]
    },
    {
     "name": "stderr",
     "output_type": "stream",
     "text": [
      "                                                                          \r"
     ]
    },
    {
     "name": "stdout",
     "output_type": "stream",
     "text": [
      "MoviePy - Done.\n",
      "Moviepy - Writing video 2016.NBA.Raw.Video.Replays\\11.11.2015.GSW.at.MEM\\11.11.2015.GSW.at.MEM_processed.mp4\n",
      "\n"
     ]
    },
    {
     "name": "stderr",
     "output_type": "stream",
     "text": [
      "                                                                     \r"
     ]
    },
    {
     "name": "stdout",
     "output_type": "stream",
     "text": [
      "Moviepy - Done !\n",
      "Moviepy - video ready 2016.NBA.Raw.Video.Replays\\11.11.2015.GSW.at.MEM\\11.11.2015.GSW.at.MEM_processed.mp4\n",
      "Processed video saved: 2016.NBA.Raw.Video.Replays\\11.11.2015.GSW.at.MEM\\11.11.2015.GSW.at.MEM_processed.mp4\n",
      "Moviepy - Building video 2016.NBA.Raw.Video.Replays\\11.14.2015.BKN.at.GSW\\11.14.2015.BKN.at.GSW_processed.mp4.\n",
      "MoviePy - Writing audio in 11.14.2015.BKN.at.GSW_processedTEMP_MPY_wvf_snd.mp3\n"
     ]
    },
    {
     "name": "stderr",
     "output_type": "stream",
     "text": [
      "                                                                          \r"
     ]
    },
    {
     "name": "stdout",
     "output_type": "stream",
     "text": [
      "MoviePy - Done.\n",
      "Moviepy - Writing video 2016.NBA.Raw.Video.Replays\\11.14.2015.BKN.at.GSW\\11.14.2015.BKN.at.GSW_processed.mp4\n",
      "\n"
     ]
    },
    {
     "name": "stderr",
     "output_type": "stream",
     "text": [
      "t:  16%|█▌        | 24697/159088 [05:31<34:22, 65.16it/s, now=None]  "
     ]
    },
    {
     "ename": "KeyboardInterrupt",
     "evalue": "",
     "output_type": "error",
     "traceback": [
      "\u001b[1;31m---------------------------------------------------------------------------\u001b[0m",
      "\u001b[1;31mKeyboardInterrupt\u001b[0m                         Traceback (most recent call last)",
      "\u001b[1;32mc:\\Users\\Levi\\Desktop\\statvu-plus-plus\\scripts.ipynb Cell 2\u001b[0m in \u001b[0;36m5\n\u001b[0;32m      <a href='vscode-notebook-cell:/c%3A/Users/Levi/Desktop/statvu-plus-plus/scripts.ipynb#W1sZmlsZQ%3D%3D?line=1'>2</a>\u001b[0m directory_path \u001b[39m=\u001b[39m \u001b[39m\"\u001b[39m\u001b[39m2016.NBA.Raw.Video.Replays\u001b[39m\u001b[39m\"\u001b[39m\n\u001b[0;32m      <a href='vscode-notebook-cell:/c%3A/Users/Levi/Desktop/statvu-plus-plus/scripts.ipynb#W1sZmlsZQ%3D%3D?line=3'>4</a>\u001b[0m \u001b[39m# Process videos in the specified directory\u001b[39;00m\n\u001b[1;32m----> <a href='vscode-notebook-cell:/c%3A/Users/Levi/Desktop/statvu-plus-plus/scripts.ipynb#W1sZmlsZQ%3D%3D?line=4'>5</a>\u001b[0m process_directory(directory_path)\n",
      "\u001b[1;32mc:\\Users\\Levi\\Desktop\\statvu-plus-plus\\scripts.ipynb Cell 2\u001b[0m in \u001b[0;36m4\n\u001b[0;32m     <a href='vscode-notebook-cell:/c%3A/Users/Levi/Desktop/statvu-plus-plus/scripts.ipynb#W1sZmlsZQ%3D%3D?line=39'>40</a>\u001b[0m \u001b[39m# Check if the file is an MP4 video\u001b[39;00m\n\u001b[0;32m     <a href='vscode-notebook-cell:/c%3A/Users/Levi/Desktop/statvu-plus-plus/scripts.ipynb#W1sZmlsZQ%3D%3D?line=40'>41</a>\u001b[0m \u001b[39mif\u001b[39;00m file\u001b[39m.\u001b[39mlower()\u001b[39m.\u001b[39mendswith(\u001b[39m\"\u001b[39m\u001b[39m.mp4\u001b[39m\u001b[39m\"\u001b[39m):\n\u001b[1;32m---> <a href='vscode-notebook-cell:/c%3A/Users/Levi/Desktop/statvu-plus-plus/scripts.ipynb#W1sZmlsZQ%3D%3D?line=41'>42</a>\u001b[0m     process_video(file_path)\n",
      "\u001b[1;32mc:\\Users\\Levi\\Desktop\\statvu-plus-plus\\scripts.ipynb Cell 2\u001b[0m in \u001b[0;36m2\n\u001b[0;32m     <a href='vscode-notebook-cell:/c%3A/Users/Levi/Desktop/statvu-plus-plus/scripts.ipynb#W1sZmlsZQ%3D%3D?line=22'>23</a>\u001b[0m output_path \u001b[39m=\u001b[39m \u001b[39mf\u001b[39m\u001b[39m\"\u001b[39m\u001b[39m{\u001b[39;00mfile_name\u001b[39m}\u001b[39;00m\u001b[39m_processed.mp4\u001b[39m\u001b[39m\"\u001b[39m\n\u001b[0;32m     <a href='vscode-notebook-cell:/c%3A/Users/Levi/Desktop/statvu-plus-plus/scripts.ipynb#W1sZmlsZQ%3D%3D?line=24'>25</a>\u001b[0m \u001b[39m# Save the processed video\u001b[39;00m\n\u001b[1;32m---> <a href='vscode-notebook-cell:/c%3A/Users/Levi/Desktop/statvu-plus-plus/scripts.ipynb#W1sZmlsZQ%3D%3D?line=25'>26</a>\u001b[0m video\u001b[39m.\u001b[39;49mwrite_videofile(output_path)\n\u001b[0;32m     <a href='vscode-notebook-cell:/c%3A/Users/Levi/Desktop/statvu-plus-plus/scripts.ipynb#W1sZmlsZQ%3D%3D?line=27'>28</a>\u001b[0m \u001b[39m# Remove the original file\u001b[39;00m\n\u001b[0;32m     <a href='vscode-notebook-cell:/c%3A/Users/Levi/Desktop/statvu-plus-plus/scripts.ipynb#W1sZmlsZQ%3D%3D?line=28'>29</a>\u001b[0m os\u001b[39m.\u001b[39mremove(file_path)\n",
      "File \u001b[1;32m<decorator-gen-73>:2\u001b[0m, in \u001b[0;36mwrite_videofile\u001b[1;34m(self, filename, fps, codec, bitrate, audio, audio_fps, preset, audio_nbytes, audio_codec, audio_bitrate, audio_bufsize, temp_audiofile, rewrite_audio, remove_temp, write_logfile, verbose, threads, ffmpeg_params, logger)\u001b[0m\n",
      "File \u001b[1;32m~\\AppData\\Local\\Packages\\PythonSoftwareFoundation.Python.3.10_qbz5n2kfra8p0\\LocalCache\\local-packages\\Python310\\site-packages\\moviepy\\decorators.py:54\u001b[0m, in \u001b[0;36mrequires_duration\u001b[1;34m(f, clip, *a, **k)\u001b[0m\n\u001b[0;32m     52\u001b[0m     \u001b[39mraise\u001b[39;00m \u001b[39mValueError\u001b[39;00m(\u001b[39m\"\u001b[39m\u001b[39mAttribute \u001b[39m\u001b[39m'\u001b[39m\u001b[39mduration\u001b[39m\u001b[39m'\u001b[39m\u001b[39m not set\u001b[39m\u001b[39m\"\u001b[39m)\n\u001b[0;32m     53\u001b[0m \u001b[39melse\u001b[39;00m:\n\u001b[1;32m---> 54\u001b[0m     \u001b[39mreturn\u001b[39;00m f(clip, \u001b[39m*\u001b[39ma, \u001b[39m*\u001b[39m\u001b[39m*\u001b[39mk)\n",
      "File \u001b[1;32m<decorator-gen-72>:2\u001b[0m, in \u001b[0;36mwrite_videofile\u001b[1;34m(self, filename, fps, codec, bitrate, audio, audio_fps, preset, audio_nbytes, audio_codec, audio_bitrate, audio_bufsize, temp_audiofile, rewrite_audio, remove_temp, write_logfile, verbose, threads, ffmpeg_params, logger)\u001b[0m\n",
      "File \u001b[1;32m~\\AppData\\Local\\Packages\\PythonSoftwareFoundation.Python.3.10_qbz5n2kfra8p0\\LocalCache\\local-packages\\Python310\\site-packages\\moviepy\\decorators.py:135\u001b[0m, in \u001b[0;36muse_clip_fps_by_default\u001b[1;34m(f, clip, *a, **k)\u001b[0m\n\u001b[0;32m    130\u001b[0m new_a \u001b[39m=\u001b[39m [fun(arg) \u001b[39mif\u001b[39;00m (name\u001b[39m==\u001b[39m\u001b[39m'\u001b[39m\u001b[39mfps\u001b[39m\u001b[39m'\u001b[39m) \u001b[39melse\u001b[39;00m arg\n\u001b[0;32m    131\u001b[0m          \u001b[39mfor\u001b[39;00m (arg, name) \u001b[39min\u001b[39;00m \u001b[39mzip\u001b[39m(a, names)]\n\u001b[0;32m    132\u001b[0m new_kw \u001b[39m=\u001b[39m {k: fun(v) \u001b[39mif\u001b[39;00m k\u001b[39m==\u001b[39m\u001b[39m'\u001b[39m\u001b[39mfps\u001b[39m\u001b[39m'\u001b[39m \u001b[39melse\u001b[39;00m v\n\u001b[0;32m    133\u001b[0m          \u001b[39mfor\u001b[39;00m (k,v) \u001b[39min\u001b[39;00m k\u001b[39m.\u001b[39mitems()}\n\u001b[1;32m--> 135\u001b[0m \u001b[39mreturn\u001b[39;00m f(clip, \u001b[39m*\u001b[39mnew_a, \u001b[39m*\u001b[39m\u001b[39m*\u001b[39mnew_kw)\n",
      "File \u001b[1;32m<decorator-gen-71>:2\u001b[0m, in \u001b[0;36mwrite_videofile\u001b[1;34m(self, filename, fps, codec, bitrate, audio, audio_fps, preset, audio_nbytes, audio_codec, audio_bitrate, audio_bufsize, temp_audiofile, rewrite_audio, remove_temp, write_logfile, verbose, threads, ffmpeg_params, logger)\u001b[0m\n",
      "File \u001b[1;32m~\\AppData\\Local\\Packages\\PythonSoftwareFoundation.Python.3.10_qbz5n2kfra8p0\\LocalCache\\local-packages\\Python310\\site-packages\\moviepy\\decorators.py:22\u001b[0m, in \u001b[0;36mconvert_masks_to_RGB\u001b[1;34m(f, clip, *a, **k)\u001b[0m\n\u001b[0;32m     20\u001b[0m \u001b[39mif\u001b[39;00m clip\u001b[39m.\u001b[39mismask:\n\u001b[0;32m     21\u001b[0m     clip \u001b[39m=\u001b[39m clip\u001b[39m.\u001b[39mto_RGB()\n\u001b[1;32m---> 22\u001b[0m \u001b[39mreturn\u001b[39;00m f(clip, \u001b[39m*\u001b[39ma, \u001b[39m*\u001b[39m\u001b[39m*\u001b[39mk)\n",
      "File \u001b[1;32m~\\AppData\\Local\\Packages\\PythonSoftwareFoundation.Python.3.10_qbz5n2kfra8p0\\LocalCache\\local-packages\\Python310\\site-packages\\moviepy\\video\\VideoClip.py:300\u001b[0m, in \u001b[0;36mVideoClip.write_videofile\u001b[1;34m(self, filename, fps, codec, bitrate, audio, audio_fps, preset, audio_nbytes, audio_codec, audio_bitrate, audio_bufsize, temp_audiofile, rewrite_audio, remove_temp, write_logfile, verbose, threads, ffmpeg_params, logger)\u001b[0m\n\u001b[0;32m    292\u001b[0m \u001b[39mif\u001b[39;00m make_audio:\n\u001b[0;32m    293\u001b[0m     \u001b[39mself\u001b[39m\u001b[39m.\u001b[39maudio\u001b[39m.\u001b[39mwrite_audiofile(audiofile, audio_fps,\n\u001b[0;32m    294\u001b[0m                                audio_nbytes, audio_bufsize,\n\u001b[0;32m    295\u001b[0m                                audio_codec, bitrate\u001b[39m=\u001b[39maudio_bitrate,\n\u001b[0;32m    296\u001b[0m                                write_logfile\u001b[39m=\u001b[39mwrite_logfile,\n\u001b[0;32m    297\u001b[0m                                verbose\u001b[39m=\u001b[39mverbose,\n\u001b[0;32m    298\u001b[0m                                logger\u001b[39m=\u001b[39mlogger)\n\u001b[1;32m--> 300\u001b[0m ffmpeg_write_video(\u001b[39mself\u001b[39;49m, filename, fps, codec,\n\u001b[0;32m    301\u001b[0m                    bitrate\u001b[39m=\u001b[39;49mbitrate,\n\u001b[0;32m    302\u001b[0m                    preset\u001b[39m=\u001b[39;49mpreset,\n\u001b[0;32m    303\u001b[0m                    write_logfile\u001b[39m=\u001b[39;49mwrite_logfile,\n\u001b[0;32m    304\u001b[0m                    audiofile\u001b[39m=\u001b[39;49maudiofile,\n\u001b[0;32m    305\u001b[0m                    verbose\u001b[39m=\u001b[39;49mverbose, threads\u001b[39m=\u001b[39;49mthreads,\n\u001b[0;32m    306\u001b[0m                    ffmpeg_params\u001b[39m=\u001b[39;49mffmpeg_params,\n\u001b[0;32m    307\u001b[0m                    logger\u001b[39m=\u001b[39;49mlogger)\n\u001b[0;32m    309\u001b[0m \u001b[39mif\u001b[39;00m remove_temp \u001b[39mand\u001b[39;00m make_audio:\n\u001b[0;32m    310\u001b[0m     \u001b[39mif\u001b[39;00m os\u001b[39m.\u001b[39mpath\u001b[39m.\u001b[39mexists(audiofile):\n",
      "File \u001b[1;32m~\\AppData\\Local\\Packages\\PythonSoftwareFoundation.Python.3.10_qbz5n2kfra8p0\\LocalCache\\local-packages\\Python310\\site-packages\\moviepy\\video\\io\\ffmpeg_writer.py:228\u001b[0m, in \u001b[0;36mffmpeg_write_video\u001b[1;34m(clip, filename, fps, codec, bitrate, preset, withmask, write_logfile, audiofile, verbose, threads, ffmpeg_params, logger)\u001b[0m\n\u001b[0;32m    225\u001b[0m                 mask \u001b[39m=\u001b[39m mask\u001b[39m.\u001b[39mastype(\u001b[39m\"\u001b[39m\u001b[39muint8\u001b[39m\u001b[39m\"\u001b[39m)\n\u001b[0;32m    226\u001b[0m             frame \u001b[39m=\u001b[39m np\u001b[39m.\u001b[39mdstack([frame,mask])\n\u001b[1;32m--> 228\u001b[0m         writer\u001b[39m.\u001b[39;49mwrite_frame(frame)\n\u001b[0;32m    230\u001b[0m \u001b[39mif\u001b[39;00m write_logfile:\n\u001b[0;32m    231\u001b[0m     logfile\u001b[39m.\u001b[39mclose()\n",
      "File \u001b[1;32m~\\AppData\\Local\\Packages\\PythonSoftwareFoundation.Python.3.10_qbz5n2kfra8p0\\LocalCache\\local-packages\\Python310\\site-packages\\moviepy\\video\\io\\ffmpeg_writer.py:136\u001b[0m, in \u001b[0;36mFFMPEG_VideoWriter.write_frame\u001b[1;34m(self, img_array)\u001b[0m\n\u001b[0;32m    134\u001b[0m \u001b[39mtry\u001b[39;00m:\n\u001b[0;32m    135\u001b[0m     \u001b[39mif\u001b[39;00m PY3:\n\u001b[1;32m--> 136\u001b[0m        \u001b[39mself\u001b[39;49m\u001b[39m.\u001b[39;49mproc\u001b[39m.\u001b[39;49mstdin\u001b[39m.\u001b[39;49mwrite(img_array\u001b[39m.\u001b[39;49mtobytes())\n\u001b[0;32m    137\u001b[0m     \u001b[39melse\u001b[39;00m:\n\u001b[0;32m    138\u001b[0m        \u001b[39mself\u001b[39m\u001b[39m.\u001b[39mproc\u001b[39m.\u001b[39mstdin\u001b[39m.\u001b[39mwrite(img_array\u001b[39m.\u001b[39mtostring())\n",
      "\u001b[1;31mKeyboardInterrupt\u001b[0m: "
     ]
    },
    {
     "name": "stderr",
     "output_type": "stream",
     "text": [
      "t:  16%|█▌        | 24703/159088 [05:44<34:22, 65.16it/s, now=None]"
     ]
    }
   ],
   "source": [
    "# Enter the directory path you want to search for MP4 videos\n",
    "directory_path = \"2016.NBA.Raw.Video.Replays\"\n",
    "\n",
    "# Process videos in the specified directory\n",
    "process_directory(directory_path)\n"
   ]
  },
  {
   "cell_type": "code",
   "execution_count": 15,
   "metadata": {},
   "outputs": [],
   "source": [
    "import os\n",
    "import shutil\n",
    "\n",
    "\n",
    "def copy_matching_files(source_folder, destination_folder):\n",
    "    source_files = os.listdir(source_folder)\n",
    "    destination_files = os.listdir(destination_folder)\n",
    "\n",
    "    source_files_stripped = [os.path.splitext(\n",
    "        filename)[0] for filename in source_files]\n",
    "    destination_files_stripped = [os.path.splitext(\n",
    "        filename)[0] for filename in destination_files]\n",
    "\n",
    "    for source_filename, source_stripped in zip(source_files, source_files_stripped):\n",
    "        source_filepath = os.path.join(source_folder, source_filename)\n",
    "\n",
    "        if os.path.isfile(source_filepath):\n",
    "            matching_files = [\n",
    "                filename for filename in destination_files if source_stripped == os.path.splitext(filename)[0]]\n",
    "\n",
    "            for matching_filename in matching_files:\n",
    "                matching_filepath = os.path.join(\n",
    "                    destination_folder, matching_filename)\n",
    "\n",
    "                # Create a new folder in the source folder\n",
    "                matching_folder = os.path.join(source_folder, source_stripped)\n",
    "                os.makedirs(matching_folder, exist_ok=True)\n",
    "\n",
    "                # Copy the destination file to the matching folder in the source folder\n",
    "                destination_copy_filepath = os.path.join(\n",
    "                    matching_folder, matching_filename)\n",
    "                shutil.copy2(matching_filepath, destination_copy_filepath)\n",
    "\n",
    "                print(f\"Copied matching file to {matching_folder}\")\n"
   ]
  },
  {
   "cell_type": "code",
   "execution_count": null,
   "metadata": {},
   "outputs": [],
   "source": [
    "# Provide the paths to the source and destination folders\n",
    "source_folder = \"2016.NBA.Raw.Video.Replays\"\n",
    "destination_folder = \"2016.NBA.Raw.SportVU.Gamelogs\"\n",
    "\n",
    "# Call the function to copy matching files\n",
    "copy_matching_files(source_folder, destination_folder)"
   ]
  }
 ],
 "metadata": {
  "kernelspec": {
   "display_name": "Python 3",
   "language": "python",
   "name": "python3"
  },
  "language_info": {
   "codemirror_mode": {
    "name": "ipython",
    "version": 3
   },
   "file_extension": ".py",
   "mimetype": "text/x-python",
   "name": "python",
   "nbconvert_exporter": "python",
   "pygments_lexer": "ipython3",
   "version": "3.10.11"
  },
  "orig_nbformat": 4
 },
 "nbformat": 4,
 "nbformat_minor": 2
}
