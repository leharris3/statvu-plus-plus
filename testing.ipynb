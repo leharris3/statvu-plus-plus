{
 "cells": [
  {
   "cell_type": "code",
   "execution_count": 1,
   "metadata": {},
   "outputs": [],
   "source": [
    "import json"
   ]
  },
  {
   "cell_type": "code",
   "execution_count": 2,
   "metadata": {},
   "outputs": [],
   "source": [
    "json_path = r\"statvu-plus-plus\\01.14.2016.LAL.at.GSW.TNT\\01.14.2016.LAL.at.GSW.TNT.json\"\n",
    "with open(json_path, 'r') as file:\n",
    "    data = json.load(file)\n"
   ]
  },
  {
   "cell_type": "code",
   "execution_count": 3,
   "metadata": {},
   "outputs": [
    {
     "data": {
      "text/plain": [
       "{'name': 'Golden State Warriors',\n",
       " 'teamid': 1610612744,\n",
       " 'abbreviation': 'GSW',\n",
       " 'players': [{'lastname': 'Barbosa',\n",
       "   'firstname': 'Leandro',\n",
       "   'playerid': 2571,\n",
       "   'jersey': '19',\n",
       "   'position': 'G'},\n",
       "  {'lastname': 'Livingston',\n",
       "   'firstname': 'Shaun',\n",
       "   'playerid': 2733,\n",
       "   'jersey': '34',\n",
       "   'position': 'G'},\n",
       "  {'lastname': 'Iguodala',\n",
       "   'firstname': 'Andre',\n",
       "   'playerid': 2738,\n",
       "   'jersey': '9',\n",
       "   'position': 'G-F'},\n",
       "  {'lastname': 'Bogut',\n",
       "   'firstname': 'Andrew',\n",
       "   'playerid': 101106,\n",
       "   'jersey': '12',\n",
       "   'position': 'C'},\n",
       "  {'lastname': 'Thompson',\n",
       "   'firstname': 'Jason',\n",
       "   'playerid': 201574,\n",
       "   'jersey': '1',\n",
       "   'position': 'F-C'},\n",
       "  {'lastname': 'Rush',\n",
       "   'firstname': 'Brandon',\n",
       "   'playerid': 201575,\n",
       "   'jersey': '4',\n",
       "   'position': 'F-G'},\n",
       "  {'lastname': 'Speights',\n",
       "   'firstname': 'Marreese',\n",
       "   'playerid': 201578,\n",
       "   'jersey': '5',\n",
       "   'position': 'F-C'},\n",
       "  {'lastname': 'Curry',\n",
       "   'firstname': 'Stephen',\n",
       "   'playerid': 201939,\n",
       "   'jersey': '30',\n",
       "   'position': 'G'},\n",
       "  {'lastname': 'Thompson',\n",
       "   'firstname': 'Klay',\n",
       "   'playerid': 202691,\n",
       "   'jersey': '11',\n",
       "   'position': 'G'},\n",
       "  {'lastname': 'Barnes',\n",
       "   'firstname': 'Harrison',\n",
       "   'playerid': 203084,\n",
       "   'jersey': '40',\n",
       "   'position': 'F'},\n",
       "  {'lastname': 'Ezeli',\n",
       "   'firstname': 'Festus',\n",
       "   'playerid': 203105,\n",
       "   'jersey': '31',\n",
       "   'position': 'C'},\n",
       "  {'lastname': 'Green',\n",
       "   'firstname': 'Draymond',\n",
       "   'playerid': 203110,\n",
       "   'jersey': '23',\n",
       "   'position': 'F'},\n",
       "  {'lastname': 'Clark',\n",
       "   'firstname': 'Ian',\n",
       "   'playerid': 203546,\n",
       "   'jersey': '21',\n",
       "   'position': 'G'}]}"
      ]
     },
     "execution_count": 3,
     "metadata": {},
     "output_type": "execute_result"
    }
   ],
   "source": [
    "data[\"events\"][100][\"home\"]"
   ]
  },
  {
   "cell_type": "code",
   "execution_count": 4,
   "metadata": {},
   "outputs": [
    {
     "name": "stdout",
     "output_type": "stream",
     "text": [
      "-6.45138 -1.98573\n",
      "99.63563 52.70823\n"
     ]
    }
   ],
   "source": [
    "min_x, max_x = 1000, -1000\n",
    "min_y, max_y = 1000, -1000\n",
    "for event in data[\"events\"]:\n",
    "    for moment in event[\"moments\"]:\n",
    "        for row in moment[5]:\n",
    "            min_x = min(min_x, row[2])\n",
    "            min_y = min(min_y, row[3])\n",
    "            max_x = max(max_x, row[2])\n",
    "            max_y = max(max_y, row[3])\n",
    "\n",
    "print(min_x, min_y)\n",
    "print(max_x, max_y)\n"
   ]
  }
 ],
 "metadata": {
  "kernelspec": {
   "display_name": "Python 3",
   "language": "python",
   "name": "python3"
  },
  "language_info": {
   "codemirror_mode": {
    "name": "ipython",
    "version": 3
   },
   "file_extension": ".py",
   "mimetype": "text/x-python",
   "name": "python",
   "nbconvert_exporter": "python",
   "pygments_lexer": "ipython3",
   "version": "3.10.11"
  },
  "orig_nbformat": 4
 },
 "nbformat": 4,
 "nbformat_minor": 2
}
