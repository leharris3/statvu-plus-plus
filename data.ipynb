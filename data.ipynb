{
 "cells": [
  {
   "cell_type": "code",
   "execution_count": 1,
   "metadata": {},
   "outputs": [
    {
     "name": "stdout",
     "output_type": "stream",
     "text": [
      "[]\n"
     ]
    }
   ],
   "source": [
    "from mapping import *\n",
    "\n",
    "statvu_data_path = r\"2016.NBA.Raw.Video.Replays\\01.14.2016.LAL.at.GSW\\0021500592.json\"\n",
    "timestamp_data_path = r\"2016.NBA.Raw.Video.Replays\\01.14.2016.LAL.at.GSW\\searchable.json\"\n",
    "\n",
    "map_timestamps_to_statvu(timestamp_data_path, statvu_data_path)"
   ]
  },
  {
   "cell_type": "code",
   "execution_count": 2,
   "metadata": {},
   "outputs": [],
   "source": [
    "import json\n",
    "\n",
    "statvu_path = r\"2016.NBA.Raw.Video.Replays\\01.14.2016.LAL.at.GSW\\0021500592_plus.json\"\n",
    "statvu_data = json.load(open(statvu_path))"
   ]
  },
  {
   "cell_type": "code",
   "execution_count": 3,
   "metadata": {},
   "outputs": [
    {
     "name": "stdout",
     "output_type": "stream",
     "text": [
      "0.8742760546817581\n"
     ]
    }
   ],
   "source": [
    "total, hits = 0, 0\n",
    "# print(statvu_data['events'][1]['moments'][0])\n",
    "for event in statvu_data[\"events\"]:\n",
    "    for moment in event[\"moments\"]:\n",
    "        if moment[6] != -1:\n",
    "            hits += 1\n",
    "        total += 1\n",
    "print(hits/total)"
   ]
  },
  {
   "cell_type": "code",
   "execution_count": 4,
   "metadata": {},
   "outputs": [
    {
     "name": "stdout",
     "output_type": "stream",
     "text": [
      "2016.NBA.Raw.Video.Replays\\01.14.2016.LAL.at.GSW\\0021500592.mp4\n"
     ]
    }
   ],
   "source": [
    "video_path = statvu_data[\"video_path\"]"
   ]
  }
 ],
 "metadata": {
  "kernelspec": {
   "display_name": "Python 3",
   "language": "python",
   "name": "python3"
  },
  "language_info": {
   "codemirror_mode": {
    "name": "ipython",
    "version": 3
   },
   "file_extension": ".py",
   "mimetype": "text/x-python",
   "name": "python",
   "nbconvert_exporter": "python",
   "pygments_lexer": "ipython3",
   "version": "3.10.11"
  },
  "orig_nbformat": 4
 },
 "nbformat": 4,
 "nbformat_minor": 2
}
