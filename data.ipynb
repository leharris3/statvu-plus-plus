{
 "cells": [
  {
   "cell_type": "code",
   "execution_count": 1,
   "metadata": {},
   "outputs": [
    {
     "name": "stdout",
     "output_type": "stream",
     "text": [
      "Result saved as --ip=127.0.0.json\n",
      "01.14.2016.LAL.at.GSW.TNT.mp4\n"
     ]
    },
    {
     "ename": "FileExistsError",
     "evalue": "[WinError 183] Cannot create a file when that file already exists: 'statvu-plus-plus/01.14.2016.LAL.at.GSW.TNT'",
     "output_type": "error",
     "traceback": [
      "\u001b[1;31m---------------------------------------------------------------------------\u001b[0m",
      "\u001b[1;31mFileExistsError\u001b[0m                           Traceback (most recent call last)",
      "\u001b[1;32mc:\\Users\\Levi\\Desktop\\statvu-plus-plus\\data.ipynb Cell 1\u001b[0m in \u001b[0;36m4\n\u001b[0;32m      <a href='vscode-notebook-cell:/c%3A/Users/Levi/Desktop/statvu-plus-plus/data.ipynb#W0sZmlsZQ%3D%3D?line=0'>1</a>\u001b[0m \u001b[39mfrom\u001b[39;00m \u001b[39mDatabase\u001b[39;00m \u001b[39mimport\u001b[39;00m \u001b[39m*\u001b[39m\n\u001b[0;32m      <a href='vscode-notebook-cell:/c%3A/Users/Levi/Desktop/statvu-plus-plus/data.ipynb#W0sZmlsZQ%3D%3D?line=2'>3</a>\u001b[0m db \u001b[39m=\u001b[39m Database()\n\u001b[1;32m----> <a href='vscode-notebook-cell:/c%3A/Users/Levi/Desktop/statvu-plus-plus/data.ipynb#W0sZmlsZQ%3D%3D?line=3'>4</a>\u001b[0m db\u001b[39m.\u001b[39;49mprocess_all_videos()\n",
      "File \u001b[1;32mc:\\Users\\Levi\\Desktop\\statvu-plus-plus\\Database.py:22\u001b[0m, in \u001b[0;36mDatabase.process_all_videos\u001b[1;34m(self)\u001b[0m\n\u001b[0;32m     20\u001b[0m network \u001b[39m=\u001b[39m parts[\u001b[39m-\u001b[39m\u001b[39m2\u001b[39m]\n\u001b[0;32m     21\u001b[0m game \u001b[39m=\u001b[39m Game(title\u001b[39m=\u001b[39mtitle, network\u001b[39m=\u001b[39mnetwork)\n\u001b[1;32m---> 22\u001b[0m \u001b[39mif\u001b[39;00m \u001b[39mnot\u001b[39;00m game\u001b[39m.\u001b[39;49mprocess():\n\u001b[0;32m     23\u001b[0m     \u001b[39mprint\u001b[39m(\u001b[39m\"\u001b[39m\u001b[39mError processing game:\u001b[39m\u001b[39m\"\u001b[39m, game)\n",
      "File \u001b[1;32mc:\\Users\\Levi\\Desktop\\statvu-plus-plus\\Game.py:25\u001b[0m, in \u001b[0;36mGame.process\u001b[1;34m(self)\u001b[0m\n\u001b[0;32m     23\u001b[0m \u001b[39mdef\u001b[39;00m \u001b[39mprocess\u001b[39m(\u001b[39mself\u001b[39m):\n\u001b[0;32m     24\u001b[0m     \u001b[39m# Move + create new folder\u001b[39;00m\n\u001b[1;32m---> 25\u001b[0m     \u001b[39mself\u001b[39;49m\u001b[39m.\u001b[39;49mcreateNewGameFolder()\n\u001b[0;32m     27\u001b[0m     \u001b[39m# Normalize\u001b[39;00m\n\u001b[0;32m     28\u001b[0m \n\u001b[0;32m     29\u001b[0m     \u001b[39m# Extract Time\u001b[39;00m\n\u001b[1;32m   (...)\u001b[0m\n\u001b[0;32m     34\u001b[0m \n\u001b[0;32m     35\u001b[0m     \u001b[39m# Visualize Results\u001b[39;00m\n\u001b[0;32m     36\u001b[0m     \u001b[39mreturn\u001b[39;00m\n",
      "File \u001b[1;32mc:\\Users\\Levi\\Desktop\\statvu-plus-plus\\Game.py:41\u001b[0m, in \u001b[0;36mGame.createNewGameFolder\u001b[1;34m(self)\u001b[0m\n\u001b[0;32m     38\u001b[0m \u001b[39mdef\u001b[39;00m \u001b[39mcreateNewGameFolder\u001b[39m(\u001b[39mself\u001b[39m) \u001b[39m-\u001b[39m\u001b[39m>\u001b[39m \u001b[39mbool\u001b[39m:\n\u001b[0;32m     39\u001b[0m     \u001b[39m# 1. Create new game dir\u001b[39;00m\n\u001b[0;32m     40\u001b[0m     new_processed_folder \u001b[39m=\u001b[39m \u001b[39mf\u001b[39m\u001b[39m\"\u001b[39m\u001b[39mstatvu-plus-plus/\u001b[39m\u001b[39m{\u001b[39;00m\u001b[39mself\u001b[39m\u001b[39m.\u001b[39mtitle\u001b[39m}\u001b[39;00m\u001b[39m.\u001b[39m\u001b[39m{\u001b[39;00m\u001b[39mself\u001b[39m\u001b[39m.\u001b[39mnetwork\u001b[39m}\u001b[39;00m\u001b[39m\"\u001b[39m\n\u001b[1;32m---> 41\u001b[0m     os\u001b[39m.\u001b[39;49mmkdir(new_processed_folder)\n\u001b[0;32m     43\u001b[0m     \u001b[39m# 2. Copy old data to new data path\u001b[39;00m\n\u001b[0;32m     44\u001b[0m     old_data_path \u001b[39m=\u001b[39m \u001b[39mself\u001b[39m\u001b[39m.\u001b[39mdata\u001b[39m.\u001b[39mpath_to_unprocessed_data\n",
      "\u001b[1;31mFileExistsError\u001b[0m: [WinError 183] Cannot create a file when that file already exists: 'statvu-plus-plus/01.14.2016.LAL.at.GSW.TNT'"
     ]
    }
   ],
   "source": [
    "from Database import *\n",
    "\n",
    "db = Database()\n",
    "db.process_all_videos()"
   ]
  },
  {
   "cell_type": "code",
   "execution_count": null,
   "metadata": {},
   "outputs": [],
   "source": []
  },
  {
   "cell_type": "code",
   "execution_count": null,
   "metadata": {},
   "outputs": [],
   "source": [
    "from mapping import *\n",
    "\n",
    "statvu_data_path = r\"2016.NBA.Raw.Video.Replays\\01.14.2016.LAL.at.GSW\\0021500592.json\"\n",
    "timestamp_data_path = r\"2016.NBA.Raw.Video.Replays\\01.14.2016.LAL.at.GSW\\searchable.json\"\n",
    "\n",
    "map_timestamps_to_statvu(timestamp_data_path, statvu_data_path)"
   ]
  },
  {
   "cell_type": "code",
   "execution_count": null,
   "metadata": {},
   "outputs": [],
   "source": [
    "import json\n",
    "\n",
    "statvu_path = r\"2016.NBA.Raw.Video.Replays\\01.14.2016.LAL.at.GSW\\0021500592_plus.json\"\n",
    "statvu_data = json.load(open(statvu_path))"
   ]
  },
  {
   "cell_type": "code",
   "execution_count": null,
   "metadata": {},
   "outputs": [],
   "source": [
    "total, hits = 0, 0\n",
    "# print(statvu_data['events'][1]['moments'][0])\n",
    "for event in statvu_data[\"events\"]:\n",
    "    for moment in event[\"moments\"]:\n",
    "        if moment[6] != -1:\n",
    "            hits += 1\n",
    "        total += 1\n",
    "print(hits/total)"
   ]
  },
  {
   "cell_type": "code",
   "execution_count": null,
   "metadata": {},
   "outputs": [],
   "source": [
    "video_path = statvu_data[\"video_path\"]"
   ]
  }
 ],
 "metadata": {
  "kernelspec": {
   "display_name": "Python 3",
   "language": "python",
   "name": "python3"
  },
  "language_info": {
   "codemirror_mode": {
    "name": "ipython",
    "version": 3
   },
   "file_extension": ".py",
   "mimetype": "text/x-python",
   "name": "python",
   "nbconvert_exporter": "python",
   "pygments_lexer": "ipython3",
   "version": "3.10.11"
  },
  "orig_nbformat": 4
 },
 "nbformat": 4,
 "nbformat_minor": 2
}
